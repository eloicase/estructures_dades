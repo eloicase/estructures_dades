{
 "cells": [
  {
   "cell_type": "markdown",
   "id": "25e704ee",
   "metadata": {},
   "source": [
    "## Sprint 3 T01\n",
    "### Eloi Canals"
   ]
  },
  {
   "cell_type": "markdown",
   "id": "ada5a290",
   "metadata": {},
   "source": [
    "#### [x] Nivell 1. Exercici 1"
   ]
  },
  {
   "cell_type": "code",
   "execution_count": 8,
   "id": "9956fa55",
   "metadata": {},
   "outputs": [
    {
     "name": "stdout",
     "output_type": "stream",
     "text": [
      "El segon mes del primer trimestre es: febrer\n",
      "El primer semestre consta de: ['gener', 'febrer', 'març']\n",
      "Accedint a: septembre\n",
      "Accedint a: octubre\n"
     ]
    }
   ],
   "source": [
    "any = [['gener','febrer','març'],['abril','maig','juny'],['juliol','agost','septembre'],['octubre','novembre','desembre']]\n"
   ]
  },
  {
   "cell_type": "markdown",
   "id": "87accde1",
   "metadata": {},
   "source": [
    "#### [x] Nivell 1. Exercici 2"
   ]
  },
  {
   "cell_type": "code",
   "execution_count": 9,
   "id": "6b8257ac",
   "metadata": {},
   "outputs": [
    {
     "name": "stdout",
     "output_type": "stream",
     "text": [
      "El segon mes del primer trimestre es: febrer\n",
      "El primer semestre consta de: ['gener', 'febrer', 'març']\n",
      "Accedint a: septembre\n",
      "Accedint a: octubre\n"
     ]
    }
   ],
   "source": [
    "print(f\"El segon mes del primer trimestre es: {any[0][1]}\")     \n",
    "print(f\"El primer semestre consta de: {any[0][0:3]}\") \n",
    "print(f\"Accedint a: {any[2][2]}\") \n",
    "print(f\"Accedint a: {any[3][0]}\") "
   ]
  },
  {
   "cell_type": "markdown",
   "id": "e21447ba",
   "metadata": {},
   "source": [
    "#### [x] Nivell 1. Exercici 3"
   ]
  },
  {
   "cell_type": "code",
   "execution_count": 11,
   "id": "88bf91ca",
   "metadata": {},
   "outputs": [
    {
     "name": "stdout",
     "output_type": "stream",
     "text": [
      "La llista consta de: 14 elements.\n",
      "El numero 3 apareix 3 vegades.\n",
      "El numero 3 i el 4 apareixen 4 vegades.\n",
      "El numero mes gran es el: 78.0\n",
      "Els 3 numeros mes petits son: [2.0, 1.0, 0.5]\n",
      "El rang de la llista es: de 0.5 a 78.0\n"
     ]
    }
   ],
   "source": [
    "mynums = [5.0,1.0,5,0.5,3.0,6.0,8.0,78.0,5.0,3.0,2.0,4.0,3.0,7.0] \n",
    "print(f\"La llista consta de: {len(mynums)} elements.\") \n",
    "print(f\"El numero 3 apareix {mynums.count(3)} vegades.\") \n",
    "print(f\"El numero 3 i el 4 apareixen {mynums.count(3)+mynums.count(4)} vegades.\") \n",
    "mynums.sort(reverse = True)\n",
    "print(f\"El numero mes gran es el: {mynums[0]}\") \n",
    "print(f\"Els 3 numeros mes petits son: {mynums[-3:]}\") \n",
    "print(f\"El rang de la llista es: de {mynums[-1]} a {mynums[0]}\") "
   ]
  },
  {
   "cell_type": "markdown",
   "id": "d262b2ef",
   "metadata": {},
   "source": [
    "#### [x] Nivell 1. Exercici 4"
   ]
  },
  {
   "cell_type": "code",
   "execution_count": 15,
   "id": "33a3688c",
   "metadata": {},
   "outputs": [
    {
     "name": "stdout",
     "output_type": "stream",
     "text": [
      "S'han afegit les Prunes a la llista.\n",
      "Les peres han costat 7.92 €\n",
      "S'ha comprat Pomes, Peres, Cireres, Prunes, \n",
      "La fruita mes cara son les Prunes que costen 0.99 €\n"
     ]
    }
   ],
   "source": [
    "compra = { \"Pomes\" : {\"Qty\": 5, \"€\": 0.42}, \"Peres\" : {\"Qty\": 3, \"€\": 0.66} , \"Cireres\" : {\"Qty\": 10, \"€\": 0.36} }\n",
    "\n",
    "tobuy=\"Prunes\"\n",
    "compra[tobuy] = {\"Qty\": 12, \"€\": 0.99}\n",
    "thekeys = compra.keys()\n",
    "print(f\"S'han afegit les {tobuy} a la llista.\") \n",
    "\n",
    "\n",
    "total= compra[\"Prunes\"][\"Qty\"] * compra[\"Peres\"][\"€\"]\n",
    "print(f\"Les peres han costat {total} €\") \n",
    "\n",
    "lista=\"\"\n",
    "for x in thekeys:\n",
    "\tlista = lista + x + \", \"\n",
    "print(f\"S'ha comprat {lista}\") \n",
    "\n",
    "expensive_value = 0\n",
    "expensive_key = \"\"\n",
    "\n",
    "for x in thekeys:\n",
    "\tif compra[x][\"€\"] > expensive_value:\n",
    "\t\texpensive_value = compra[x][\"€\"]\n",
    "\t\texpensive_key = x\n",
    "print(f\"La fruita mes cara son les {expensive_key} que costen {expensive_value} €\") "
   ]
  },
  {
   "cell_type": "code",
   "execution_count": null,
   "id": "71f289d8",
   "metadata": {},
   "outputs": [],
   "source": []
  }
 ],
 "metadata": {
  "kernelspec": {
   "display_name": "Python 3",
   "language": "python",
   "name": "python3"
  },
  "language_info": {
   "codemirror_mode": {
    "name": "ipython",
    "version": 3
   },
   "file_extension": ".py",
   "mimetype": "text/x-python",
   "name": "python",
   "nbconvert_exporter": "python",
   "pygments_lexer": "ipython3",
   "version": "3.8.8"
  }
 },
 "nbformat": 4,
 "nbformat_minor": 5
}
